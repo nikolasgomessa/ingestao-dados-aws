{
 "cells": [
  {
   "cell_type": "code",
   "execution_count": 69,
   "metadata": {},
   "outputs": [
    {
     "name": "stdout",
     "output_type": "stream",
     "text": [
      "Calculation started (calculation_id=06c4edf0-62dd-d93f-4f93-af52e831cf52) in (session=02c4ede6-db86-afe5-b5cf-dc0e58b733bc). Checking calculation status...\n"
     ]
    },
    {
     "data": {
      "application/vnd.jupyter.widget-view+json": {
       "model_id": "86c95d6b240e471d8ef936fbe3375906",
       "version_major": 2,
       "version_minor": 0
      },
      "text/plain": [
       "Progress:   0%|          |elapsed time = 00:00s"
      ]
     },
     "metadata": {},
     "output_type": "display_data"
    },
    {
     "name": "stdout",
     "output_type": "stream",
     "text": [
      "Calculation completed.\n"
     ]
    }
   ],
   "source": [
    "from pyspark.sql.types import *\n",
    "import pyspark.sql.functions as F"
   ]
  },
  {
   "cell_type": "code",
   "execution_count": 70,
   "metadata": {},
   "outputs": [
    {
     "name": "stdout",
     "output_type": "stream",
     "text": [
      "Calculation started (calculation_id=aec4edf0-682f-9afc-75cf-b93bc48cb7ce) in (session=02c4ede6-db86-afe5-b5cf-dc0e58b733bc). Checking calculation status...\n"
     ]
    },
    {
     "data": {
      "application/vnd.jupyter.widget-view+json": {
       "model_id": "da99c2fcb1cc4afcbf4d8d7d4aba0247",
       "version_major": 2,
       "version_minor": 0
      },
      "text/plain": [
       "Progress:   0%|          |elapsed time = 00:00s"
      ]
     },
     "metadata": {},
     "output_type": "display_data"
    },
    {
     "name": "stdout",
     "output_type": "stream",
     "text": [
      "Calculation completed.\n"
     ]
    }
   ],
   "source": [
    "df_bancos_raw = spark.read.csv(\"s3://ingestao-dados/raw/Bancos/\", sep='\\t', header=True)"
   ]
  },
  {
   "cell_type": "code",
   "execution_count": 71,
   "metadata": {},
   "outputs": [
    {
     "name": "stdout",
     "output_type": "stream",
     "text": [
      "Calculation started (calculation_id=ccc4edf0-767c-f4d7-272e-9cadedfcd4da) in (session=02c4ede6-db86-afe5-b5cf-dc0e58b733bc). Checking calculation status...\n"
     ]
    },
    {
     "data": {
      "application/vnd.jupyter.widget-view+json": {
       "model_id": "f2b239efe6574a9a8805cc514ee52fdd",
       "version_major": 2,
       "version_minor": 0
      },
      "text/plain": [
       "Progress:   0%|          |elapsed time = 00:00s"
      ]
     },
     "metadata": {},
     "output_type": "display_data"
    },
    {
     "name": "stdout",
     "output_type": "stream",
     "text": [
      "Calculation completed.\n"
     ]
    }
   ],
   "source": [
    "df_empregados_raw = spark.read.csv(\"s3://ingestao-dados/raw/Empregados/\", sep='|', header=True).dropDuplicates([\"Nome\"])"
   ]
  },
  {
   "cell_type": "code",
   "execution_count": 72,
   "metadata": {},
   "outputs": [
    {
     "name": "stdout",
     "output_type": "stream",
     "text": [
      "Calculation started (calculation_id=d6c4edf0-7bf0-b90a-1fd0-023ac04b1fb2) in (session=02c4ede6-db86-afe5-b5cf-dc0e58b733bc). Checking calculation status...\n"
     ]
    },
    {
     "data": {
      "application/vnd.jupyter.widget-view+json": {
       "model_id": "cc1c4ed4f3804e92bc68defa58245c0c",
       "version_major": 2,
       "version_minor": 0
      },
      "text/plain": [
       "Progress:   0%|          |elapsed time = 00:00s"
      ]
     },
     "metadata": {},
     "output_type": "display_data"
    },
    {
     "name": "stdout",
     "output_type": "stream",
     "text": [
      "Calculation completed.\n"
     ]
    }
   ],
   "source": [
    "df_reclamacoes_raw = spark.read.csv(\"s3://ingestao-dados/raw/Reclamacoes_utf8/\", sep=';', header=True, encoding='UTF-8')"
   ]
  },
  {
   "cell_type": "code",
   "execution_count": 73,
   "metadata": {},
   "outputs": [
    {
     "name": "stdout",
     "output_type": "stream",
     "text": [
      "Calculation started (calculation_id=16c4edf0-8dcb-5b45-1aa9-936e17d84206) in (session=02c4ede6-db86-afe5-b5cf-dc0e58b733bc). Checking calculation status...\n"
     ]
    },
    {
     "data": {
      "application/vnd.jupyter.widget-view+json": {
       "model_id": "230577d67fd34c3f9757fa25e1c55c6b",
       "version_major": 2,
       "version_minor": 0
      },
      "text/plain": [
       "Progress:   0%|          |elapsed time = 00:00s"
      ]
     },
     "metadata": {},
     "output_type": "display_data"
    },
    {
     "name": "stdout",
     "output_type": "stream",
     "text": [
      "Calculation completed.\n"
     ]
    }
   ],
   "source": [
    "df_bancos = df_bancos_raw.select(\n",
    "    F.col(\"Segmento\").alias(\"segmento\"),\n",
    "    F.lpad(F.col(\"CNPJ\"), 8, '0').alias(\"cnpj\"),\n",
    "    F.regexp_replace(F.col(\"Nome\"), ' - PRUDENCIAL', '').alias(\"nome\")\n",
    ")"
   ]
  },
  {
   "cell_type": "code",
   "execution_count": 74,
   "metadata": {},
   "outputs": [
    {
     "name": "stdout",
     "output_type": "stream",
     "text": [
      "Calculation started (calculation_id=52c4edf0-9341-3d14-f029-3b3d953de4da) in (session=02c4ede6-db86-afe5-b5cf-dc0e58b733bc). Checking calculation status...\n"
     ]
    },
    {
     "data": {
      "application/vnd.jupyter.widget-view+json": {
       "model_id": "7b0e5ca63b6349eaaa153d43808eb4a7",
       "version_major": 2,
       "version_minor": 0
      },
      "text/plain": [
       "Progress:   0%|          |elapsed time = 00:00s"
      ]
     },
     "metadata": {},
     "output_type": "display_data"
    },
    {
     "name": "stdout",
     "output_type": "stream",
     "text": [
      "Calculation completed.\n"
     ]
    }
   ],
   "source": [
    "df_empregados = df_empregados_raw.select(\n",
    "    F.col(\"employer_name\").cast(StringType()).alias(\"employer_name\"),\n",
    "    F.col(\"reviews_count\").cast(LongType()).alias(\"reviews_count\"),\n",
    "    F.col(\"culture_count\").cast(LongType()).alias(\"culture_count\"),\n",
    "    F.col(\"salaries_count\").cast(LongType()).alias(\"salaries_count\"),\n",
    "    F.col(\"benefits_count\").cast(LongType()).alias(\"benefits_count\"),\n",
    "    F.col(\"employer-website\").cast(StringType()).alias(\"employer_website\"),\n",
    "    F.col(\"employer-headquarters\").cast(StringType()).alias(\"employer_headquarters\"),\n",
    "    F.col(\"employer-founded\").cast(IntegerType()).alias(\"employer_founded\"),\n",
    "    F.col(\"employer-industry\").cast(StringType()).alias(\"employer_industry\"),\n",
    "    F.col(\"employer-revenue\").cast(StringType()).alias(\"employer_revenue\"),\n",
    "    F.col(\"url\").cast(StringType()).alias(\"url\"),\n",
    "    F.col(\"Geral\").cast(FloatType()).alias(\"geral\"),\n",
    "    F.col(\"Cultura e valores\").cast(FloatType()).alias(\"cultura_valores\"),\n",
    "    F.col(\"Diversidade e inclus�o\").cast(FloatType()).alias(\"diversidade_inclusao\"),\n",
    "    F.col(\"Qualidade de vida\").cast(FloatType()).alias(\"qualidade_vida\"),\n",
    "    F.col(\"Alta lideran�a\").cast(FloatType()).alias(\"alta_lideranca\"),\n",
    "    F.col(\"Remunera��o e benef�cios\").cast(FloatType()).alias(\"remuneracao_beneficios\"),\n",
    "    F.col(\"Oportunidades de carreira\").cast(FloatType()).alias(\"oportunidades_carreira\"),\n",
    "    F.col(\"Recomendam para outras pessoas(%)\").cast(FloatType()).alias(\"recomendam_outras_pessoas\"),\n",
    "    F.col(\"Perspectiva positiva da empresa(%)\").cast(FloatType()).alias(\"perspectiva_positiva_empresa\"),\n",
    "    F.col(\"Segmento\").cast(StringType()).alias(\"segmento\"),\n",
    "    F.col(\"Nome\").cast(StringType()).alias(\"nome\"),\n",
    "    F.col(\"match_percent\").cast(FloatType()).alias(\"match_percent\")\n",
    ")"
   ]
  },
  {
   "cell_type": "code",
   "execution_count": 75,
   "metadata": {},
   "outputs": [
    {
     "name": "stdout",
     "output_type": "stream",
     "text": [
      "Calculation started (calculation_id=9ec4edf0-98a3-28a7-6194-0d3ecb5bbea9) in (session=02c4ede6-db86-afe5-b5cf-dc0e58b733bc). Checking calculation status...\n"
     ]
    },
    {
     "data": {
      "application/vnd.jupyter.widget-view+json": {
       "model_id": "f53fb36e276b48fa86810e5ff6e66447",
       "version_major": 2,
       "version_minor": 0
      },
      "text/plain": [
       "Progress:   0%|          |elapsed time = 00:00s"
      ]
     },
     "metadata": {},
     "output_type": "display_data"
    },
    {
     "name": "stdout",
     "output_type": "stream",
     "text": [
      "Calculation completed.\n"
     ]
    }
   ],
   "source": [
    "df_bancos_empregados = df_bancos.join(df_empregados, ['nome', 'segmento'], 'left')"
   ]
  },
  {
   "cell_type": "code",
   "execution_count": 76,
   "metadata": {},
   "outputs": [
    {
     "name": "stdout",
     "output_type": "stream",
     "text": [
      "Calculation started (calculation_id=76c4edf0-9a06-ad3f-d1d9-71847a7ec9a5) in (session=02c4ede6-db86-afe5-b5cf-dc0e58b733bc). Checking calculation status...\n"
     ]
    },
    {
     "data": {
      "application/vnd.jupyter.widget-view+json": {
       "model_id": "9d48aaa03e0b4db1b50514f583fa5e59",
       "version_major": 2,
       "version_minor": 0
      },
      "text/plain": [
       "Progress:   0%|          |elapsed time = 00:00s"
      ]
     },
     "metadata": {},
     "output_type": "display_data"
    },
    {
     "name": "stdout",
     "output_type": "stream",
     "text": [
      "Calculation completed.\n"
     ]
    }
   ],
   "source": [
    "df_reclamacoes = df_reclamacoes_raw.withColumn(\"cnpj\", F.when(\n",
    "    F.col(\"CNPJ IF\") == ' ', F.lit(None)\n",
    ").otherwise(F.col(\"CNPJ IF\")))\\\n",
    ".select(\n",
    "    F.col(\"Ano\").cast(IntegerType()).alias(\"ano\"),\n",
    "    F.col(\"Trimestre\").cast(StringType()).alias(\"trimestre\"),\n",
    "    F.col(\"Categoria\").cast(StringType()).alias(\"categoria\"),\n",
    "    F.col(\"Tipo\").cast(StringType()).alias(\"tipo\"),\n",
    "    F.lpad(F.col(\"cnpj\"), 8, '0').alias(\"cnpj\"),\n",
    "    F.col(\"Institui��o financeira\").cast(StringType()).alias(\"instituicao_financeira\"),\n",
    "    F.col(\"�ndice\").cast(FloatType()).alias(\"indice\"),\n",
    "    F.col(\"Quantidade de reclama��es reguladas procedentes\").cast(LongType()).alias(\"qtd_reclamacoes_reguladas_procedentes\"),\n",
    "    F.col(\"Quantidade de reclama��es reguladas - outras\").cast(LongType()).alias(\"qtd_reclamacoes_reguladas_outras\"),\n",
    "    F.col(\"Quantidade de reclama��es n�o reguladas\").cast(LongType()).alias(\"qtd_reclamacoes_nao_reguladas\"),\n",
    "    F.col(\"Quantidade total de reclama��es\").cast(LongType()).alias(\"qtd_total_reclamacoes\"),\n",
    "    F.col(\"Quantidade total de clientes - CCS e SCR\").cast(LongType()).alias(\"qtd_total_clientes_ccs_scr\"),\n",
    "    F.col(\"Quantidade de clientes - CCS\").cast(LongType()).alias(\"qtd_clientes_ccs\"),\n",
    "    F.col(\"Quantidade de clientes - SCR\").cast(LongType()).alias(\"qtd_clientes_scr\"),\n",
    "    F.regexp_replace(F.col(\"Institui��o financeira\"), \" \\\\(conglomerado\\\\)\", \"\").alias(\"nome\")\n",
    ")"
   ]
  },
  {
   "cell_type": "code",
   "execution_count": 77,
   "metadata": {},
   "outputs": [
    {
     "name": "stdout",
     "output_type": "stream",
     "text": [
      "Calculation started (calculation_id=9ac4edf0-9b86-2683-0d06-87231e17af98) in (session=02c4ede6-db86-afe5-b5cf-dc0e58b733bc). Checking calculation status...\n"
     ]
    },
    {
     "data": {
      "application/vnd.jupyter.widget-view+json": {
       "model_id": "cc27e86ba3204f8a975b6655f13742ca",
       "version_major": 2,
       "version_minor": 0
      },
      "text/plain": [
       "Progress:   0%|          |elapsed time = 00:00s"
      ]
     },
     "metadata": {},
     "output_type": "display_data"
    },
    {
     "name": "stdout",
     "output_type": "stream",
     "text": [
      "Calculation completed.\n"
     ]
    }
   ],
   "source": [
    "df_nome = df_bancos_empregados.join(df_reclamacoes.where(F.col(\"cnpj\").isNull()).drop(\"cnpj\"), ['nome'], 'left')\n",
    "\n",
    "df_nome = df_nome.select(\n",
    "    F.col(\"nome\"),\n",
    "    F.col(\"cnpj\"),\n",
    "    F.col(\"segmento\").alias(\"classificacao_banco\"),\n",
    "    F.col(\"geral\").alias(\"avaliacao_geral\"),\n",
    "    F.col(\"indice\").alias(\"indice_reclamacoes\"),\n",
    "    F.col(\"qtd_total_reclamacoes\"),\n",
    "    F.col(\"qtd_total_clientes_ccs_scr\"),\n",
    "    F.col(\"remuneracao_beneficios\").alias(\"indice_satisfacao_salarios_funcionarios\"),\n",
    "    F.col(\"perspectiva_positiva_empresa\"),\n",
    "    F.col(\"ano\"),\n",
    "    F.col(\"trimestre\")\n",
    ")"
   ]
  },
  {
   "cell_type": "code",
   "execution_count": 78,
   "metadata": {},
   "outputs": [
    {
     "name": "stdout",
     "output_type": "stream",
     "text": [
      "Calculation started (calculation_id=e2c4edf0-9ced-2513-ef86-a934abf14b32) in (session=02c4ede6-db86-afe5-b5cf-dc0e58b733bc). Checking calculation status...\n"
     ]
    },
    {
     "data": {
      "application/vnd.jupyter.widget-view+json": {
       "model_id": "46a8a9665dfe4c31895a663be867848f",
       "version_major": 2,
       "version_minor": 0
      },
      "text/plain": [
       "Progress:   0%|          |elapsed time = 00:00s"
      ]
     },
     "metadata": {},
     "output_type": "display_data"
    },
    {
     "name": "stdout",
     "output_type": "stream",
     "text": [
      "Calculation completed.\n",
      "1691\n",
      "\n"
     ]
    }
   ],
   "source": [
    "df_nome.count()"
   ]
  },
  {
   "cell_type": "code",
   "execution_count": 79,
   "metadata": {},
   "outputs": [
    {
     "name": "stdout",
     "output_type": "stream",
     "text": [
      "Calculation started (calculation_id=10c4edf0-b2f8-c973-e864-8b0a8a00c079) in (session=02c4ede6-db86-afe5-b5cf-dc0e58b733bc). Checking calculation status...\n"
     ]
    },
    {
     "data": {
      "application/vnd.jupyter.widget-view+json": {
       "model_id": "bfe3da7a6aa2498692f24785545a066a",
       "version_major": 2,
       "version_minor": 0
      },
      "text/plain": [
       "Progress:   0%|          |elapsed time = 00:00s"
      ]
     },
     "metadata": {},
     "output_type": "display_data"
    },
    {
     "name": "stdout",
     "output_type": "stream",
     "text": [
      "Calculation completed.\n"
     ]
    }
   ],
   "source": [
    "df_cnpj = df_bancos_empregados.join(df_reclamacoes.where(F.col(\"cnpj\").isNotNull()).drop(\"nome\"), ['cnpj'], 'left')\n",
    "df_cnpj = df_cnpj.select(\n",
    "    F.col(\"nome\"),\n",
    "    F.col(\"cnpj\"),\n",
    "    F.col(\"segmento\").alias(\"classificacao_banco\"),\n",
    "    F.col(\"geral\").alias(\"avaliacao_geral\"),\n",
    "    F.col(\"indice\").alias(\"indice_reclamacoes\"),\n",
    "    F.col(\"qtd_total_reclamacoes\"),\n",
    "    F.col(\"qtd_total_clientes_ccs_scr\"),\n",
    "    F.col(\"remuneracao_beneficios\").alias(\"indice_satisfacao_salarios_funcionarios\"),\n",
    "    F.col(\"perspectiva_positiva_empresa\"),\n",
    "    F.col(\"ano\"),\n",
    "    F.col(\"trimestre\")\n",
    ")"
   ]
  },
  {
   "cell_type": "code",
   "execution_count": 80,
   "metadata": {},
   "outputs": [
    {
     "name": "stdout",
     "output_type": "stream",
     "text": [
      "Calculation started (calculation_id=7ec4edf0-b464-8b5c-b330-81f4725c5896) in (session=02c4ede6-db86-afe5-b5cf-dc0e58b733bc). Checking calculation status...\n"
     ]
    },
    {
     "data": {
      "application/vnd.jupyter.widget-view+json": {
       "model_id": "d16075636e2e4552b2d86a2164e618d8",
       "version_major": 2,
       "version_minor": 0
      },
      "text/plain": [
       "Progress:   0%|          |elapsed time = 00:00s"
      ]
     },
     "metadata": {},
     "output_type": "display_data"
    },
    {
     "name": "stdout",
     "output_type": "stream",
     "text": [
      "Calculation completed.\n",
      "1728\n",
      "\n"
     ]
    }
   ],
   "source": [
    "df_cnpj.count()"
   ]
  },
  {
   "cell_type": "code",
   "execution_count": 81,
   "metadata": {},
   "outputs": [
    {
     "name": "stdout",
     "output_type": "stream",
     "text": [
      "Calculation started (calculation_id=38c4edf0-ca43-9108-357f-b6b48e47b8f1) in (session=02c4ede6-db86-afe5-b5cf-dc0e58b733bc). Checking calculation status...\n"
     ]
    },
    {
     "data": {
      "application/vnd.jupyter.widget-view+json": {
       "model_id": "05ac6a5814204ea18c523b045e22f67c",
       "version_major": 2,
       "version_minor": 0
      },
      "text/plain": [
       "Progress:   0%|          |elapsed time = 00:00s"
      ]
     },
     "metadata": {},
     "output_type": "display_data"
    },
    {
     "name": "stdout",
     "output_type": "stream",
     "text": [
      "Calculation completed.\n"
     ]
    }
   ],
   "source": [
    "df = df_nome.unionByName(df_cnpj).dropDuplicates()"
   ]
  },
  {
   "cell_type": "code",
   "execution_count": 82,
   "metadata": {},
   "outputs": [
    {
     "name": "stdout",
     "output_type": "stream",
     "text": [
      "Calculation started (calculation_id=a2c4edf0-cbc0-aa87-09bd-7d0449e7f819) in (session=02c4ede6-db86-afe5-b5cf-dc0e58b733bc). Checking calculation status...\n"
     ]
    },
    {
     "data": {
      "application/vnd.jupyter.widget-view+json": {
       "model_id": "475d325176824c06aa3e53be79b35d2f",
       "version_major": 2,
       "version_minor": 0
      },
      "text/plain": [
       "Progress:   0%|          |elapsed time = 00:00s"
      ]
     },
     "metadata": {},
     "output_type": "display_data"
    },
    {
     "name": "stdout",
     "output_type": "stream",
     "text": [
      "Calculation completed.\n",
      "2064\n",
      "\n"
     ]
    }
   ],
   "source": [
    "df.count()"
   ]
  },
  {
   "cell_type": "code",
   "execution_count": 83,
   "metadata": {},
   "outputs": [
    {
     "name": "stdout",
     "output_type": "stream",
     "text": [
      "Calculation started (calculation_id=d2c4edf0-d54f-4e09-a5f2-1bfecd2b3f37) in (session=02c4ede6-db86-afe5-b5cf-dc0e58b733bc). Checking calculation status...\n"
     ]
    },
    {
     "data": {
      "application/vnd.jupyter.widget-view+json": {
       "model_id": "6c71db5d4efb48969a6da742730744ac",
       "version_major": 2,
       "version_minor": 0
      },
      "text/plain": [
       "Progress:   0%|          |elapsed time = 00:00s"
      ]
     },
     "metadata": {},
     "output_type": "display_data"
    },
    {
     "name": "stdout",
     "output_type": "stream",
     "text": [
      "Calculation completed.\n"
     ]
    }
   ],
   "source": [
    "df.repartition(1).write.mode(\"overwrite\").parquet(\"s3://ingestao-dados/transformed_pyspark/\")"
   ]
  },
  {
   "cell_type": "code",
   "execution_count": null,
   "metadata": {},
   "outputs": [],
   "source": []
  }
 ],
 "metadata": {
  "kernelspec": {
   "display_name": "Athena PySpark",
   "language": "python",
   "name": "kepler_python_kernel"
  },
  "language_info": {
   "codemirror_mode": {
    "name": "python",
    "version": 3
   },
   "file_extension": ".py",
   "mimetype": "text/x-python",
   "name": "Python_Session",
   "pygments_lexer": "python3"
  }
 },
 "nbformat": 4,
 "nbformat_minor": 1
}
